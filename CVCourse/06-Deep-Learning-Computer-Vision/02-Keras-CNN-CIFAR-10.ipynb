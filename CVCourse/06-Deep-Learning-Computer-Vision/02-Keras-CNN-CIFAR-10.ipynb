{
 "cells": [
  {
   "cell_type": "markdown",
   "metadata": {},
   "source": [
    "# CIFAR-10 Multiple Classes\n",
    "\n",
    "Let's go over another example of using Keras and building out CNNs. This time will use another famous data set, the CIFAR-10 dataset which consists of 10 different image types."
   ]
  },
  {
   "cell_type": "markdown",
   "metadata": {},
   "source": [
    "-----"
   ]
  },
  {
   "cell_type": "markdown",
   "metadata": {},
   "source": [
    "# The Data\n",
    "\n",
    "CIFAR-10 is a dataset of 50,000 32x32 color training images, labeled over 10 categories, and 10,000 test images."
   ]
  },
  {
   "cell_type": "code",
   "execution_count": 1,
   "metadata": {
    "tags": []
   },
   "outputs": [
    {
     "output_type": "stream",
     "name": "stderr",
     "text": "Using TensorFlow backend.\nDownloading data from https://www.cs.toronto.edu/~kriz/cifar-10-python.tar.gz\n170500096/170498071 [==============================] - 23s 0us/step\n"
    }
   ],
   "source": [
    "from keras.datasets import cifar10\n",
    "\n",
    "(x_train, y_train), (x_test, y_test) = cifar10.load_data()"
   ]
  },
  {
   "cell_type": "code",
   "execution_count": 2,
   "metadata": {},
   "outputs": [
    {
     "output_type": "execute_result",
     "data": {
      "text/plain": "(50000, 32, 32, 3)"
     },
     "metadata": {},
     "execution_count": 2
    }
   ],
   "source": [
    "x_train.shape"
   ]
  },
  {
   "cell_type": "code",
   "execution_count": 3,
   "metadata": {},
   "outputs": [
    {
     "output_type": "execute_result",
     "data": {
      "text/plain": "(32, 32, 3)"
     },
     "metadata": {},
     "execution_count": 3
    }
   ],
   "source": [
    "x_train[0].shape"
   ]
  },
  {
   "cell_type": "code",
   "execution_count": 4,
   "metadata": {},
   "outputs": [],
   "source": [
    "import matplotlib.pyplot as plt"
   ]
  },
  {
   "cell_type": "code",
   "execution_count": 5,
   "metadata": {},
   "outputs": [
    {
     "output_type": "execute_result",
     "data": {
      "text/plain": "&lt;matplotlib.image.AxesImage at 0x1925372f9b0&gt;"
     },
     "metadata": {},
     "execution_count": 5
    },
    {
     "output_type": "display_data",
     "data": {
      "text/plain": "&lt;Figure size 432x288 with 1 Axes&gt;",
      "image/svg+xml": "<?xml version=\"1.0\" encoding=\"utf-8\" standalone=\"no\"?>\r\n<!DOCTYPE svg PUBLIC \"-//W3C//DTD SVG 1.1//EN\"\r\n  \"http://www.w3.org/Graphics/SVG/1.1/DTD/svg11.dtd\">\r\n<!-- Created with matplotlib (http://matplotlib.org/) -->\r\n<svg height=\"252.018125pt\" version=\"1.1\" viewBox=\"0 0 255.065 252.018125\" width=\"255.065pt\" xmlns=\"http://www.w3.org/2000/svg\" xmlns:xlink=\"http://www.w3.org/1999/xlink\">\r\n <defs>\r\n  <style type=\"text/css\">\r\n*{stroke-linecap:butt;stroke-linejoin:round;}\r\n  </style>\r\n </defs>\r\n <g id=\"figure_1\">\r\n  <g id=\"patch_1\">\r\n   <path d=\"M 0 252.018125 \r\nL 255.065 252.018125 \r\nL 255.065 0 \r\nL 0 0 \r\nz\r\n\" style=\"fill:none;\"/>\r\n  </g>\r\n  <g id=\"axes_1\">\r\n   <g id=\"patch_2\">\r\n    <path d=\"M 26.925 228.14 \r\nL 244.365 228.14 \r\nL 244.365 10.7 \r\nL 26.925 10.7 \r\nz\r\n\" style=\"fill:#ffffff;\"/>\r\n   </g>\r\n   <g clip-path=\"url(#p6d87f5065d)\">\r\n    <image height=\"218\" id=\"image5de7aaa0a7\" transform=\"scale(1 -1)translate(0 -218)\" width=\"218\" x=\"26.925\" xlink:href=\"data:image/png;base64,\r\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\" y=\"-10.14\"/>\r\n   </g>\r\n   <g id=\"matplotlib.axis_1\">\r\n    <g id=\"xtick_1\">\r\n     <g id=\"line2d_1\">\r\n      <defs>\r\n       <path d=\"M 0 0 \r\nL 0 3.5 \r\n\" id=\"mae7841e8ad\" style=\"stroke:#000000;stroke-width:0.8;\"/>\r\n      </defs>\r\n      <g>\r\n       <use style=\"stroke:#000000;stroke-width:0.8;\" x=\"30.3225\" xlink:href=\"#mae7841e8ad\" y=\"228.14\"/>\r\n      </g>\r\n     </g>\r\n     <g id=\"text_1\">\r\n      <!-- 0 -->\r\n      <defs>\r\n       <path d=\"M 31.78125 66.40625 \r\nQ 24.171875 66.40625 20.328125 58.90625 \r\nQ 16.5 51.421875 16.5 36.375 \r\nQ 16.5 21.390625 20.328125 13.890625 \r\nQ 24.171875 6.390625 31.78125 6.390625 \r\nQ 39.453125 6.390625 43.28125 13.890625 \r\nQ 47.125 21.390625 47.125 36.375 \r\nQ 47.125 51.421875 43.28125 58.90625 \r\nQ 39.453125 66.40625 31.78125 66.40625 \r\nz\r\nM 31.78125 74.21875 \r\nQ 44.046875 74.21875 50.515625 64.515625 \r\nQ 56.984375 54.828125 56.984375 36.375 \r\nQ 56.984375 17.96875 50.515625 8.265625 \r\nQ 44.046875 -1.421875 31.78125 -1.421875 \r\nQ 19.53125 -1.421875 13.0625 8.265625 \r\nQ 6.59375 17.96875 6.59375 36.375 \r\nQ 6.59375 54.828125 13.0625 64.515625 \r\nQ 19.53125 74.21875 31.78125 74.21875 \r\nz\r\n\" id=\"DejaVuSans-30\"/>\r\n      </defs>\r\n      <g transform=\"translate(27.14125 242.738437)scale(0.1 -0.1)\">\r\n       <use xlink:href=\"#DejaVuSans-30\"/>\r\n      </g>\r\n     </g>\r\n    </g>\r\n    <g id=\"xtick_2\">\r\n     <g id=\"line2d_2\">\r\n      <g>\r\n       <use style=\"stroke:#000000;stroke-width:0.8;\" x=\"64.2975\" xlink:href=\"#mae7841e8ad\" y=\"228.14\"/>\r\n      </g>\r\n     </g>\r\n     <g id=\"text_2\">\r\n      <!-- 5 -->\r\n      <defs>\r\n       <path d=\"M 10.796875 72.90625 \r\nL 49.515625 72.90625 \r\nL 49.515625 64.59375 \r\nL 19.828125 64.59375 \r\nL 19.828125 46.734375 \r\nQ 21.96875 47.46875 24.109375 47.828125 \r\nQ 26.265625 48.1875 28.421875 48.1875 \r\nQ 40.625 48.1875 47.75 41.5 \r\nQ 54.890625 34.8125 54.890625 23.390625 \r\nQ 54.890625 11.625 47.5625 5.09375 \r\nQ 40.234375 -1.421875 26.90625 -1.421875 \r\nQ 22.3125 -1.421875 17.546875 -0.640625 \r\nQ 12.796875 0.140625 7.71875 1.703125 \r\nL 7.71875 11.625 \r\nQ 12.109375 9.234375 16.796875 8.0625 \r\nQ 21.484375 6.890625 26.703125 6.890625 \r\nQ 35.15625 6.890625 40.078125 11.328125 \r\nQ 45.015625 15.765625 45.015625 23.390625 \r\nQ 45.015625 31 40.078125 35.4375 \r\nQ 35.15625 39.890625 26.703125 39.890625 \r\nQ 22.75 39.890625 18.8125 39.015625 \r\nQ 14.890625 38.140625 10.796875 36.28125 \r\nz\r\n\" id=\"DejaVuSans-35\"/>\r\n      </defs>\r\n      <g transform=\"translate(61.11625 242.738437)scale(0.1 -0.1)\">\r\n       <use xlink:href=\"#DejaVuSans-35\"/>\r\n      </g>\r\n     </g>\r\n    </g>\r\n    <g id=\"xtick_3\">\r\n     <g id=\"line2d_3\">\r\n      <g>\r\n       <use style=\"stroke:#000000;stroke-width:0.8;\" x=\"98.2725\" xlink:href=\"#mae7841e8ad\" y=\"228.14\"/>\r\n      </g>\r\n     </g>\r\n     <g id=\"text_3\">\r\n      <!-- 10 -->\r\n      <defs>\r\n       <path d=\"M 12.40625 8.296875 \r\nL 28.515625 8.296875 \r\nL 28.515625 63.921875 \r\nL 10.984375 60.40625 \r\nL 10.984375 69.390625 \r\nL 28.421875 72.90625 \r\nL 38.28125 72.90625 \r\nL 38.28125 8.296875 \r\nL 54.390625 8.296875 \r\nL 54.390625 0 \r\nL 12.40625 0 \r\nz\r\n\" id=\"DejaVuSans-31\"/>\r\n      </defs>\r\n      <g transform=\"translate(91.91 242.738437)scale(0.1 -0.1)\">\r\n       <use xlink:href=\"#DejaVuSans-31\"/>\r\n       <use x=\"63.623047\" xlink:href=\"#DejaVuSans-30\"/>\r\n      </g>\r\n     </g>\r\n    </g>\r\n    <g id=\"xtick_4\">\r\n     <g id=\"line2d_4\">\r\n      <g>\r\n       <use style=\"stroke:#000000;stroke-width:0.8;\" x=\"132.2475\" xlink:href=\"#mae7841e8ad\" y=\"228.14\"/>\r\n      </g>\r\n     </g>\r\n     <g id=\"text_4\">\r\n      <!-- 15 -->\r\n      <g transform=\"translate(125.885 242.738437)scale(0.1 -0.1)\">\r\n       <use xlink:href=\"#DejaVuSans-31\"/>\r\n       <use x=\"63.623047\" xlink:href=\"#DejaVuSans-35\"/>\r\n      </g>\r\n     </g>\r\n    </g>\r\n    <g id=\"xtick_5\">\r\n     <g id=\"line2d_5\">\r\n      <g>\r\n       <use style=\"stroke:#000000;stroke-width:0.8;\" x=\"166.2225\" xlink:href=\"#mae7841e8ad\" y=\"228.14\"/>\r\n      </g>\r\n     </g>\r\n     <g id=\"text_5\">\r\n      <!-- 20 -->\r\n      <defs>\r\n       <path d=\"M 19.1875 8.296875 \r\nL 53.609375 8.296875 \r\nL 53.609375 0 \r\nL 7.328125 0 \r\nL 7.328125 8.296875 \r\nQ 12.9375 14.109375 22.625 23.890625 \r\nQ 32.328125 33.6875 34.8125 36.53125 \r\nQ 39.546875 41.84375 41.421875 45.53125 \r\nQ 43.3125 49.21875 43.3125 52.78125 \r\nQ 43.3125 58.59375 39.234375 62.25 \r\nQ 35.15625 65.921875 28.609375 65.921875 \r\nQ 23.96875 65.921875 18.8125 64.3125 \r\nQ 13.671875 62.703125 7.8125 59.421875 \r\nL 7.8125 69.390625 \r\nQ 13.765625 71.78125 18.9375 73 \r\nQ 24.125 74.21875 28.421875 74.21875 \r\nQ 39.75 74.21875 46.484375 68.546875 \r\nQ 53.21875 62.890625 53.21875 53.421875 \r\nQ 53.21875 48.921875 51.53125 44.890625 \r\nQ 49.859375 40.875 45.40625 35.40625 \r\nQ 44.1875 33.984375 37.640625 27.21875 \r\nQ 31.109375 20.453125 19.1875 8.296875 \r\nz\r\n\" id=\"DejaVuSans-32\"/>\r\n      </defs>\r\n      <g transform=\"translate(159.86 242.738437)scale(0.1 -0.1)\">\r\n       <use xlink:href=\"#DejaVuSans-32\"/>\r\n       <use x=\"63.623047\" xlink:href=\"#DejaVuSans-30\"/>\r\n      </g>\r\n     </g>\r\n    </g>\r\n    <g id=\"xtick_6\">\r\n     <g id=\"line2d_6\">\r\n      <g>\r\n       <use style=\"stroke:#000000;stroke-width:0.8;\" x=\"200.1975\" xlink:href=\"#mae7841e8ad\" y=\"228.14\"/>\r\n      </g>\r\n     </g>\r\n     <g id=\"text_6\">\r\n      <!-- 25 -->\r\n      <g transform=\"translate(193.835 242.738437)scale(0.1 -0.1)\">\r\n       <use xlink:href=\"#DejaVuSans-32\"/>\r\n       <use x=\"63.623047\" xlink:href=\"#DejaVuSans-35\"/>\r\n      </g>\r\n     </g>\r\n    </g>\r\n    <g id=\"xtick_7\">\r\n     <g id=\"line2d_7\">\r\n      <g>\r\n       <use style=\"stroke:#000000;stroke-width:0.8;\" x=\"234.1725\" xlink:href=\"#mae7841e8ad\" y=\"228.14\"/>\r\n      </g>\r\n     </g>\r\n     <g id=\"text_7\">\r\n      <!-- 30 -->\r\n      <defs>\r\n       <path d=\"M 40.578125 39.3125 \r\nQ 47.65625 37.796875 51.625 33 \r\nQ 55.609375 28.21875 55.609375 21.1875 \r\nQ 55.609375 10.40625 48.1875 4.484375 \r\nQ 40.765625 -1.421875 27.09375 -1.421875 \r\nQ 22.515625 -1.421875 17.65625 -0.515625 \r\nQ 12.796875 0.390625 7.625 2.203125 \r\nL 7.625 11.71875 \r\nQ 11.71875 9.328125 16.59375 8.109375 \r\nQ 21.484375 6.890625 26.8125 6.890625 \r\nQ 36.078125 6.890625 40.9375 10.546875 \r\nQ 45.796875 14.203125 45.796875 21.1875 \r\nQ 45.796875 27.640625 41.28125 31.265625 \r\nQ 36.765625 34.90625 28.71875 34.90625 \r\nL 20.21875 34.90625 \r\nL 20.21875 43.015625 \r\nL 29.109375 43.015625 \r\nQ 36.375 43.015625 40.234375 45.921875 \r\nQ 44.09375 48.828125 44.09375 54.296875 \r\nQ 44.09375 59.90625 40.109375 62.90625 \r\nQ 36.140625 65.921875 28.71875 65.921875 \r\nQ 24.65625 65.921875 20.015625 65.03125 \r\nQ 15.375 64.15625 9.8125 62.3125 \r\nL 9.8125 71.09375 \r\nQ 15.4375 72.65625 20.34375 73.4375 \r\nQ 25.25 74.21875 29.59375 74.21875 \r\nQ 40.828125 74.21875 47.359375 69.109375 \r\nQ 53.90625 64.015625 53.90625 55.328125 \r\nQ 53.90625 49.265625 50.4375 45.09375 \r\nQ 46.96875 40.921875 40.578125 39.3125 \r\nz\r\n\" id=\"DejaVuSans-33\"/>\r\n      </defs>\r\n      <g transform=\"translate(227.81 242.738437)scale(0.1 -0.1)\">\r\n       <use xlink:href=\"#DejaVuSans-33\"/>\r\n       <use x=\"63.623047\" xlink:href=\"#DejaVuSans-30\"/>\r\n      </g>\r\n     </g>\r\n    </g>\r\n   </g>\r\n   <g id=\"matplotlib.axis_2\">\r\n    <g id=\"ytick_1\">\r\n     <g id=\"line2d_8\">\r\n      <defs>\r\n       <path d=\"M 0 0 \r\nL -3.5 0 \r\n\" id=\"m5b8075d7e7\" style=\"stroke:#000000;stroke-width:0.8;\"/>\r\n      </defs>\r\n      <g>\r\n       <use style=\"stroke:#000000;stroke-width:0.8;\" x=\"26.925\" xlink:href=\"#m5b8075d7e7\" y=\"14.0975\"/>\r\n      </g>\r\n     </g>\r\n     <g id=\"text_8\">\r\n      <!-- 0 -->\r\n      <g transform=\"translate(13.5625 17.896719)scale(0.1 -0.1)\">\r\n       <use xlink:href=\"#DejaVuSans-30\"/>\r\n      </g>\r\n     </g>\r\n    </g>\r\n    <g id=\"ytick_2\">\r\n     <g id=\"line2d_9\">\r\n      <g>\r\n       <use style=\"stroke:#000000;stroke-width:0.8;\" x=\"26.925\" xlink:href=\"#m5b8075d7e7\" y=\"48.0725\"/>\r\n      </g>\r\n     </g>\r\n     <g id=\"text_9\">\r\n      <!-- 5 -->\r\n      <g transform=\"translate(13.5625 51.871719)scale(0.1 -0.1)\">\r\n       <use xlink:href=\"#DejaVuSans-35\"/>\r\n      </g>\r\n     </g>\r\n    </g>\r\n    <g id=\"ytick_3\">\r\n     <g id=\"line2d_10\">\r\n      <g>\r\n       <use style=\"stroke:#000000;stroke-width:0.8;\" x=\"26.925\" xlink:href=\"#m5b8075d7e7\" y=\"82.0475\"/>\r\n      </g>\r\n     </g>\r\n     <g id=\"text_10\">\r\n      <!-- 10 -->\r\n      <g transform=\"translate(7.2 85.846719)scale(0.1 -0.1)\">\r\n       <use xlink:href=\"#DejaVuSans-31\"/>\r\n       <use x=\"63.623047\" xlink:href=\"#DejaVuSans-30\"/>\r\n      </g>\r\n     </g>\r\n    </g>\r\n    <g id=\"ytick_4\">\r\n     <g id=\"line2d_11\">\r\n      <g>\r\n       <use style=\"stroke:#000000;stroke-width:0.8;\" x=\"26.925\" xlink:href=\"#m5b8075d7e7\" y=\"116.0225\"/>\r\n      </g>\r\n     </g>\r\n     <g id=\"text_11\">\r\n      <!-- 15 -->\r\n      <g transform=\"translate(7.2 119.821719)scale(0.1 -0.1)\">\r\n       <use xlink:href=\"#DejaVuSans-31\"/>\r\n       <use x=\"63.623047\" xlink:href=\"#DejaVuSans-35\"/>\r\n      </g>\r\n     </g>\r\n    </g>\r\n    <g id=\"ytick_5\">\r\n     <g id=\"line2d_12\">\r\n      <g>\r\n       <use style=\"stroke:#000000;stroke-width:0.8;\" x=\"26.925\" xlink:href=\"#m5b8075d7e7\" y=\"149.9975\"/>\r\n      </g>\r\n     </g>\r\n     <g id=\"text_12\">\r\n      <!-- 20 -->\r\n      <g transform=\"translate(7.2 153.796719)scale(0.1 -0.1)\">\r\n       <use xlink:href=\"#DejaVuSans-32\"/>\r\n       <use x=\"63.623047\" xlink:href=\"#DejaVuSans-30\"/>\r\n      </g>\r\n     </g>\r\n    </g>\r\n    <g id=\"ytick_6\">\r\n     <g id=\"line2d_13\">\r\n      <g>\r\n       <use style=\"stroke:#000000;stroke-width:0.8;\" x=\"26.925\" xlink:href=\"#m5b8075d7e7\" y=\"183.9725\"/>\r\n      </g>\r\n     </g>\r\n     <g id=\"text_13\">\r\n      <!-- 25 -->\r\n      <g transform=\"translate(7.2 187.771719)scale(0.1 -0.1)\">\r\n       <use xlink:href=\"#DejaVuSans-32\"/>\r\n       <use x=\"63.623047\" xlink:href=\"#DejaVuSans-35\"/>\r\n      </g>\r\n     </g>\r\n    </g>\r\n    <g id=\"ytick_7\">\r\n     <g id=\"line2d_14\">\r\n      <g>\r\n       <use style=\"stroke:#000000;stroke-width:0.8;\" x=\"26.925\" xlink:href=\"#m5b8075d7e7\" y=\"217.9475\"/>\r\n      </g>\r\n     </g>\r\n     <g id=\"text_14\">\r\n      <!-- 30 -->\r\n      <g transform=\"translate(7.2 221.746719)scale(0.1 -0.1)\">\r\n       <use xlink:href=\"#DejaVuSans-33\"/>\r\n       <use x=\"63.623047\" xlink:href=\"#DejaVuSans-30\"/>\r\n      </g>\r\n     </g>\r\n    </g>\r\n   </g>\r\n   <g id=\"patch_3\">\r\n    <path d=\"M 26.925 228.14 \r\nL 26.925 10.7 \r\n\" style=\"fill:none;stroke:#000000;stroke-linecap:square;stroke-linejoin:miter;stroke-width:0.8;\"/>\r\n   </g>\r\n   <g id=\"patch_4\">\r\n    <path d=\"M 244.365 228.14 \r\nL 244.365 10.7 \r\n\" style=\"fill:none;stroke:#000000;stroke-linecap:square;stroke-linejoin:miter;stroke-width:0.8;\"/>\r\n   </g>\r\n   <g id=\"patch_5\">\r\n    <path d=\"M 26.925 228.14 \r\nL 244.365 228.14 \r\n\" style=\"fill:none;stroke:#000000;stroke-linecap:square;stroke-linejoin:miter;stroke-width:0.8;\"/>\r\n   </g>\r\n   <g id=\"patch_6\">\r\n    <path d=\"M 26.925 10.7 \r\nL 244.365 10.7 \r\n\" style=\"fill:none;stroke:#000000;stroke-linecap:square;stroke-linejoin:miter;stroke-width:0.8;\"/>\r\n   </g>\r\n  </g>\r\n </g>\r\n <defs>\r\n  <clipPath id=\"p6d87f5065d\">\r\n   <rect height=\"217.44\" width=\"217.44\" x=\"26.925\" y=\"10.7\"/>\r\n  </clipPath>\r\n </defs>\r\n</svg>\r\n",
      "image/png": "[encoded data removed]"
     },
     "metadata": {
      "needs_background": "light"
     }
    }
   ],
   "source": [
    "# FROG\n",
    "plt.imshow(x_train[0])"
   ]
  },
  {
   "cell_type": "code",
   "execution_count": 6,
   "metadata": {},
   "outputs": [
    {
     "output_type": "execute_result",
     "data": {
      "text/plain": "&lt;matplotlib.image.AxesImage at 0x192537ef940&gt;"
     },
     "metadata": {},
     "execution_count": 6
    },
    {
     "output_type": "display_data",
     "data": {
      "text/plain": "&lt;Figure size 432x288 with 1 Axes&gt;",
      "image/svg+xml": "<?xml version=\"1.0\" encoding=\"utf-8\" standalone=\"no\"?>\r\n<!DOCTYPE svg PUBLIC \"-//W3C//DTD SVG 1.1//EN\"\r\n  \"http://www.w3.org/Graphics/SVG/1.1/DTD/svg11.dtd\">\r\n<!-- Created with matplotlib (http://matplotlib.org/) -->\r\n<svg height=\"252.018125pt\" version=\"1.1\" viewBox=\"0 0 255.065 252.018125\" width=\"255.065pt\" xmlns=\"http://www.w3.org/2000/svg\" xmlns:xlink=\"http://www.w3.org/1999/xlink\">\r\n <defs>\r\n  <style type=\"text/css\">\r\n*{stroke-linecap:butt;stroke-linejoin:round;}\r\n  </style>\r\n </defs>\r\n <g id=\"figure_1\">\r\n  <g id=\"patch_1\">\r\n   <path d=\"M 0 252.018125 \r\nL 255.065 252.018125 \r\nL 255.065 0 \r\nL 0 0 \r\nz\r\n\" style=\"fill:none;\"/>\r\n  </g>\r\n  <g id=\"axes_1\">\r\n   <g id=\"patch_2\">\r\n    <path d=\"M 26.925 228.14 \r\nL 244.365 228.14 \r\nL 244.365 10.7 \r\nL 26.925 10.7 \r\nz\r\n\" style=\"fill:#ffffff;\"/>\r\n   </g>\r\n   <g clip-path=\"url(#p9f82cccdf8)\">\r\n    <image height=\"218\" id=\"image2936c54aa3\" transform=\"scale(1 -1)translate(0 -218)\" width=\"218\" x=\"26.925\" xlink:href=\"data:image/png;base64,\r\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\" y=\"-10.14\"/>\r\n   </g>\r\n   <g id=\"matplotlib.axis_1\">\r\n    <g id=\"xtick_1\">\r\n     <g id=\"line2d_1\">\r\n      <defs>\r\n       <path d=\"M 0 0 \r\nL 0 3.5 \r\n\" id=\"m62a170d8c1\" style=\"stroke:#000000;stroke-width:0.8;\"/>\r\n      </defs>\r\n      <g>\r\n       <use style=\"stroke:#000000;stroke-width:0.8;\" x=\"30.3225\" xlink:href=\"#m62a170d8c1\" y=\"228.14\"/>\r\n      </g>\r\n     </g>\r\n     <g id=\"text_1\">\r\n      <!-- 0 -->\r\n      <defs>\r\n       <path d=\"M 31.78125 66.40625 \r\nQ 24.171875 66.40625 20.328125 58.90625 \r\nQ 16.5 51.421875 16.5 36.375 \r\nQ 16.5 21.390625 20.328125 13.890625 \r\nQ 24.171875 6.390625 31.78125 6.390625 \r\nQ 39.453125 6.390625 43.28125 13.890625 \r\nQ 47.125 21.390625 47.125 36.375 \r\nQ 47.125 51.421875 43.28125 58.90625 \r\nQ 39.453125 66.40625 31.78125 66.40625 \r\nz\r\nM 31.78125 74.21875 \r\nQ 44.046875 74.21875 50.515625 64.515625 \r\nQ 56.984375 54.828125 56.984375 36.375 \r\nQ 56.984375 17.96875 50.515625 8.265625 \r\nQ 44.046875 -1.421875 31.78125 -1.421875 \r\nQ 19.53125 -1.421875 13.0625 8.265625 \r\nQ 6.59375 17.96875 6.59375 36.375 \r\nQ 6.59375 54.828125 13.0625 64.515625 \r\nQ 19.53125 74.21875 31.78125 74.21875 \r\nz\r\n\" id=\"DejaVuSans-30\"/>\r\n      </defs>\r\n      <g transform=\"translate(27.14125 242.738437)scale(0.1 -0.1)\">\r\n       <use xlink:href=\"#DejaVuSans-30\"/>\r\n      </g>\r\n     </g>\r\n    </g>\r\n    <g id=\"xtick_2\">\r\n     <g id=\"line2d_2\">\r\n      <g>\r\n       <use style=\"stroke:#000000;stroke-width:0.8;\" x=\"64.2975\" xlink:href=\"#m62a170d8c1\" y=\"228.14\"/>\r\n      </g>\r\n     </g>\r\n     <g id=\"text_2\">\r\n      <!-- 5 -->\r\n      <defs>\r\n       <path d=\"M 10.796875 72.90625 \r\nL 49.515625 72.90625 \r\nL 49.515625 64.59375 \r\nL 19.828125 64.59375 \r\nL 19.828125 46.734375 \r\nQ 21.96875 47.46875 24.109375 47.828125 \r\nQ 26.265625 48.1875 28.421875 48.1875 \r\nQ 40.625 48.1875 47.75 41.5 \r\nQ 54.890625 34.8125 54.890625 23.390625 \r\nQ 54.890625 11.625 47.5625 5.09375 \r\nQ 40.234375 -1.421875 26.90625 -1.421875 \r\nQ 22.3125 -1.421875 17.546875 -0.640625 \r\nQ 12.796875 0.140625 7.71875 1.703125 \r\nL 7.71875 11.625 \r\nQ 12.109375 9.234375 16.796875 8.0625 \r\nQ 21.484375 6.890625 26.703125 6.890625 \r\nQ 35.15625 6.890625 40.078125 11.328125 \r\nQ 45.015625 15.765625 45.015625 23.390625 \r\nQ 45.015625 31 40.078125 35.4375 \r\nQ 35.15625 39.890625 26.703125 39.890625 \r\nQ 22.75 39.890625 18.8125 39.015625 \r\nQ 14.890625 38.140625 10.796875 36.28125 \r\nz\r\n\" id=\"DejaVuSans-35\"/>\r\n      </defs>\r\n      <g transform=\"translate(61.11625 242.738437)scale(0.1 -0.1)\">\r\n       <use xlink:href=\"#DejaVuSans-35\"/>\r\n      </g>\r\n     </g>\r\n    </g>\r\n    <g id=\"xtick_3\">\r\n     <g id=\"line2d_3\">\r\n      <g>\r\n       <use style=\"stroke:#000000;stroke-width:0.8;\" x=\"98.2725\" xlink:href=\"#m62a170d8c1\" y=\"228.14\"/>\r\n      </g>\r\n     </g>\r\n     <g id=\"text_3\">\r\n      <!-- 10 -->\r\n      <defs>\r\n       <path d=\"M 12.40625 8.296875 \r\nL 28.515625 8.296875 \r\nL 28.515625 63.921875 \r\nL 10.984375 60.40625 \r\nL 10.984375 69.390625 \r\nL 28.421875 72.90625 \r\nL 38.28125 72.90625 \r\nL 38.28125 8.296875 \r\nL 54.390625 8.296875 \r\nL 54.390625 0 \r\nL 12.40625 0 \r\nz\r\n\" id=\"DejaVuSans-31\"/>\r\n      </defs>\r\n      <g transform=\"translate(91.91 242.738437)scale(0.1 -0.1)\">\r\n       <use xlink:href=\"#DejaVuSans-31\"/>\r\n       <use x=\"63.623047\" xlink:href=\"#DejaVuSans-30\"/>\r\n      </g>\r\n     </g>\r\n    </g>\r\n    <g id=\"xtick_4\">\r\n     <g id=\"line2d_4\">\r\n      <g>\r\n       <use style=\"stroke:#000000;stroke-width:0.8;\" x=\"132.2475\" xlink:href=\"#m62a170d8c1\" y=\"228.14\"/>\r\n      </g>\r\n     </g>\r\n     <g id=\"text_4\">\r\n      <!-- 15 -->\r\n      <g transform=\"translate(125.885 242.738437)scale(0.1 -0.1)\">\r\n       <use xlink:href=\"#DejaVuSans-31\"/>\r\n       <use x=\"63.623047\" xlink:href=\"#DejaVuSans-35\"/>\r\n      </g>\r\n     </g>\r\n    </g>\r\n    <g id=\"xtick_5\">\r\n     <g id=\"line2d_5\">\r\n      <g>\r\n       <use style=\"stroke:#000000;stroke-width:0.8;\" x=\"166.2225\" xlink:href=\"#m62a170d8c1\" y=\"228.14\"/>\r\n      </g>\r\n     </g>\r\n     <g id=\"text_5\">\r\n      <!-- 20 -->\r\n      <defs>\r\n       <path d=\"M 19.1875 8.296875 \r\nL 53.609375 8.296875 \r\nL 53.609375 0 \r\nL 7.328125 0 \r\nL 7.328125 8.296875 \r\nQ 12.9375 14.109375 22.625 23.890625 \r\nQ 32.328125 33.6875 34.8125 36.53125 \r\nQ 39.546875 41.84375 41.421875 45.53125 \r\nQ 43.3125 49.21875 43.3125 52.78125 \r\nQ 43.3125 58.59375 39.234375 62.25 \r\nQ 35.15625 65.921875 28.609375 65.921875 \r\nQ 23.96875 65.921875 18.8125 64.3125 \r\nQ 13.671875 62.703125 7.8125 59.421875 \r\nL 7.8125 69.390625 \r\nQ 13.765625 71.78125 18.9375 73 \r\nQ 24.125 74.21875 28.421875 74.21875 \r\nQ 39.75 74.21875 46.484375 68.546875 \r\nQ 53.21875 62.890625 53.21875 53.421875 \r\nQ 53.21875 48.921875 51.53125 44.890625 \r\nQ 49.859375 40.875 45.40625 35.40625 \r\nQ 44.1875 33.984375 37.640625 27.21875 \r\nQ 31.109375 20.453125 19.1875 8.296875 \r\nz\r\n\" id=\"DejaVuSans-32\"/>\r\n      </defs>\r\n      <g transform=\"translate(159.86 242.738437)scale(0.1 -0.1)\">\r\n       <use xlink:href=\"#DejaVuSans-32\"/>\r\n       <use x=\"63.623047\" xlink:href=\"#DejaVuSans-30\"/>\r\n      </g>\r\n     </g>\r\n    </g>\r\n    <g id=\"xtick_6\">\r\n     <g id=\"line2d_6\">\r\n      <g>\r\n       <use style=\"stroke:#000000;stroke-width:0.8;\" x=\"200.1975\" xlink:href=\"#m62a170d8c1\" y=\"228.14\"/>\r\n      </g>\r\n     </g>\r\n     <g id=\"text_6\">\r\n      <!-- 25 -->\r\n      <g transform=\"translate(193.835 242.738437)scale(0.1 -0.1)\">\r\n       <use xlink:href=\"#DejaVuSans-32\"/>\r\n       <use x=\"63.623047\" xlink:href=\"#DejaVuSans-35\"/>\r\n      </g>\r\n     </g>\r\n    </g>\r\n    <g id=\"xtick_7\">\r\n     <g id=\"line2d_7\">\r\n      <g>\r\n       <use style=\"stroke:#000000;stroke-width:0.8;\" x=\"234.1725\" xlink:href=\"#m62a170d8c1\" y=\"228.14\"/>\r\n      </g>\r\n     </g>\r\n     <g id=\"text_7\">\r\n      <!-- 30 -->\r\n      <defs>\r\n       <path d=\"M 40.578125 39.3125 \r\nQ 47.65625 37.796875 51.625 33 \r\nQ 55.609375 28.21875 55.609375 21.1875 \r\nQ 55.609375 10.40625 48.1875 4.484375 \r\nQ 40.765625 -1.421875 27.09375 -1.421875 \r\nQ 22.515625 -1.421875 17.65625 -0.515625 \r\nQ 12.796875 0.390625 7.625 2.203125 \r\nL 7.625 11.71875 \r\nQ 11.71875 9.328125 16.59375 8.109375 \r\nQ 21.484375 6.890625 26.8125 6.890625 \r\nQ 36.078125 6.890625 40.9375 10.546875 \r\nQ 45.796875 14.203125 45.796875 21.1875 \r\nQ 45.796875 27.640625 41.28125 31.265625 \r\nQ 36.765625 34.90625 28.71875 34.90625 \r\nL 20.21875 34.90625 \r\nL 20.21875 43.015625 \r\nL 29.109375 43.015625 \r\nQ 36.375 43.015625 40.234375 45.921875 \r\nQ 44.09375 48.828125 44.09375 54.296875 \r\nQ 44.09375 59.90625 40.109375 62.90625 \r\nQ 36.140625 65.921875 28.71875 65.921875 \r\nQ 24.65625 65.921875 20.015625 65.03125 \r\nQ 15.375 64.15625 9.8125 62.3125 \r\nL 9.8125 71.09375 \r\nQ 15.4375 72.65625 20.34375 73.4375 \r\nQ 25.25 74.21875 29.59375 74.21875 \r\nQ 40.828125 74.21875 47.359375 69.109375 \r\nQ 53.90625 64.015625 53.90625 55.328125 \r\nQ 53.90625 49.265625 50.4375 45.09375 \r\nQ 46.96875 40.921875 40.578125 39.3125 \r\nz\r\n\" id=\"DejaVuSans-33\"/>\r\n      </defs>\r\n      <g transform=\"translate(227.81 242.738437)scale(0.1 -0.1)\">\r\n       <use xlink:href=\"#DejaVuSans-33\"/>\r\n       <use x=\"63.623047\" xlink:href=\"#DejaVuSans-30\"/>\r\n      </g>\r\n     </g>\r\n    </g>\r\n   </g>\r\n   <g id=\"matplotlib.axis_2\">\r\n    <g id=\"ytick_1\">\r\n     <g id=\"line2d_8\">\r\n      <defs>\r\n       <path d=\"M 0 0 \r\nL -3.5 0 \r\n\" id=\"m12249ac9c0\" style=\"stroke:#000000;stroke-width:0.8;\"/>\r\n      </defs>\r\n      <g>\r\n       <use style=\"stroke:#000000;stroke-width:0.8;\" x=\"26.925\" xlink:href=\"#m12249ac9c0\" y=\"14.0975\"/>\r\n      </g>\r\n     </g>\r\n     <g id=\"text_8\">\r\n      <!-- 0 -->\r\n      <g transform=\"translate(13.5625 17.896719)scale(0.1 -0.1)\">\r\n       <use xlink:href=\"#DejaVuSans-30\"/>\r\n      </g>\r\n     </g>\r\n    </g>\r\n    <g id=\"ytick_2\">\r\n     <g id=\"line2d_9\">\r\n      <g>\r\n       <use style=\"stroke:#000000;stroke-width:0.8;\" x=\"26.925\" xlink:href=\"#m12249ac9c0\" y=\"48.0725\"/>\r\n      </g>\r\n     </g>\r\n     <g id=\"text_9\">\r\n      <!-- 5 -->\r\n      <g transform=\"translate(13.5625 51.871719)scale(0.1 -0.1)\">\r\n       <use xlink:href=\"#DejaVuSans-35\"/>\r\n      </g>\r\n     </g>\r\n    </g>\r\n    <g id=\"ytick_3\">\r\n     <g id=\"line2d_10\">\r\n      <g>\r\n       <use style=\"stroke:#000000;stroke-width:0.8;\" x=\"26.925\" xlink:href=\"#m12249ac9c0\" y=\"82.0475\"/>\r\n      </g>\r\n     </g>\r\n     <g id=\"text_10\">\r\n      <!-- 10 -->\r\n      <g transform=\"translate(7.2 85.846719)scale(0.1 -0.1)\">\r\n       <use xlink:href=\"#DejaVuSans-31\"/>\r\n       <use x=\"63.623047\" xlink:href=\"#DejaVuSans-30\"/>\r\n      </g>\r\n     </g>\r\n    </g>\r\n    <g id=\"ytick_4\">\r\n     <g id=\"line2d_11\">\r\n      <g>\r\n       <use style=\"stroke:#000000;stroke-width:0.8;\" x=\"26.925\" xlink:href=\"#m12249ac9c0\" y=\"116.0225\"/>\r\n      </g>\r\n     </g>\r\n     <g id=\"text_11\">\r\n      <!-- 15 -->\r\n      <g transform=\"translate(7.2 119.821719)scale(0.1 -0.1)\">\r\n       <use xlink:href=\"#DejaVuSans-31\"/>\r\n       <use x=\"63.623047\" xlink:href=\"#DejaVuSans-35\"/>\r\n      </g>\r\n     </g>\r\n    </g>\r\n    <g id=\"ytick_5\">\r\n     <g id=\"line2d_12\">\r\n      <g>\r\n       <use style=\"stroke:#000000;stroke-width:0.8;\" x=\"26.925\" xlink:href=\"#m12249ac9c0\" y=\"149.9975\"/>\r\n      </g>\r\n     </g>\r\n     <g id=\"text_12\">\r\n      <!-- 20 -->\r\n      <g transform=\"translate(7.2 153.796719)scale(0.1 -0.1)\">\r\n       <use xlink:href=\"#DejaVuSans-32\"/>\r\n       <use x=\"63.623047\" xlink:href=\"#DejaVuSans-30\"/>\r\n      </g>\r\n     </g>\r\n    </g>\r\n    <g id=\"ytick_6\">\r\n     <g id=\"line2d_13\">\r\n      <g>\r\n       <use style=\"stroke:#000000;stroke-width:0.8;\" x=\"26.925\" xlink:href=\"#m12249ac9c0\" y=\"183.9725\"/>\r\n      </g>\r\n     </g>\r\n     <g id=\"text_13\">\r\n      <!-- 25 -->\r\n      <g transform=\"translate(7.2 187.771719)scale(0.1 -0.1)\">\r\n       <use xlink:href=\"#DejaVuSans-32\"/>\r\n       <use x=\"63.623047\" xlink:href=\"#DejaVuSans-35\"/>\r\n      </g>\r\n     </g>\r\n    </g>\r\n    <g id=\"ytick_7\">\r\n     <g id=\"line2d_14\">\r\n      <g>\r\n       <use style=\"stroke:#000000;stroke-width:0.8;\" x=\"26.925\" xlink:href=\"#m12249ac9c0\" y=\"217.9475\"/>\r\n      </g>\r\n     </g>\r\n     <g id=\"text_14\">\r\n      <!-- 30 -->\r\n      <g transform=\"translate(7.2 221.746719)scale(0.1 -0.1)\">\r\n       <use xlink:href=\"#DejaVuSans-33\"/>\r\n       <use x=\"63.623047\" xlink:href=\"#DejaVuSans-30\"/>\r\n      </g>\r\n     </g>\r\n    </g>\r\n   </g>\r\n   <g id=\"patch_3\">\r\n    <path d=\"M 26.925 228.14 \r\nL 26.925 10.7 \r\n\" style=\"fill:none;stroke:#000000;stroke-linecap:square;stroke-linejoin:miter;stroke-width:0.8;\"/>\r\n   </g>\r\n   <g id=\"patch_4\">\r\n    <path d=\"M 244.365 228.14 \r\nL 244.365 10.7 \r\n\" style=\"fill:none;stroke:#000000;stroke-linecap:square;stroke-linejoin:miter;stroke-width:0.8;\"/>\r\n   </g>\r\n   <g id=\"patch_5\">\r\n    <path d=\"M 26.925 228.14 \r\nL 244.365 228.14 \r\n\" style=\"fill:none;stroke:#000000;stroke-linecap:square;stroke-linejoin:miter;stroke-width:0.8;\"/>\r\n   </g>\r\n   <g id=\"patch_6\">\r\n    <path d=\"M 26.925 10.7 \r\nL 244.365 10.7 \r\n\" style=\"fill:none;stroke:#000000;stroke-linecap:square;stroke-linejoin:miter;stroke-width:0.8;\"/>\r\n   </g>\r\n  </g>\r\n </g>\r\n <defs>\r\n  <clipPath id=\"p9f82cccdf8\">\r\n   <rect height=\"217.44\" width=\"217.44\" x=\"26.925\" y=\"10.7\"/>\r\n  </clipPath>\r\n </defs>\r\n</svg>\r\n",
      "image/png": "[encoded data removed]"
     },
     "metadata": {
      "needs_background": "light"
     }
    }
   ],
   "source": [
    "# HORSE\n",
    "plt.imshow(x_train[12])"
   ]
  },
  {
   "cell_type": "markdown",
   "metadata": {},
   "source": [
    "# PreProcessing"
   ]
  },
  {
   "cell_type": "code",
   "execution_count": 7,
   "metadata": {},
   "outputs": [
    {
     "output_type": "execute_result",
     "data": {
      "text/plain": "array([[[ 59,  62,  63],\n        [ 43,  46,  45],\n        [ 50,  48,  43],\n        ...,\n        [158, 132, 108],\n        [152, 125, 102],\n        [148, 124, 103]],\n\n       [[ 16,  20,  20],\n        [  0,   0,   0],\n        [ 18,   8,   0],\n        ...,\n        [123,  88,  55],\n        [119,  83,  50],\n        [122,  87,  57]],\n\n       [[ 25,  24,  21],\n        [ 16,   7,   0],\n        [ 49,  27,   8],\n        ...,\n        [118,  84,  50],\n        [120,  84,  50],\n        [109,  73,  42]],\n\n       ...,\n\n       [[208, 170,  96],\n        [201, 153,  34],\n        [198, 161,  26],\n        ...,\n        [160, 133,  70],\n        [ 56,  31,   7],\n        [ 53,  34,  20]],\n\n       [[180, 139,  96],\n        [173, 123,  42],\n        [186, 144,  30],\n        ...,\n        [184, 148,  94],\n        [ 97,  62,  34],\n        [ 83,  53,  34]],\n\n       [[177, 144, 116],\n        [168, 129,  94],\n        [179, 142,  87],\n        ...,\n        [216, 184, 140],\n        [151, 118,  84],\n        [123,  92,  72]]], dtype=uint8)"
     },
     "metadata": {},
     "execution_count": 7
    }
   ],
   "source": [
    "x_train[0]"
   ]
  },
  {
   "cell_type": "code",
   "execution_count": 8,
   "metadata": {},
   "outputs": [
    {
     "output_type": "execute_result",
     "data": {
      "text/plain": "(32, 32, 3)"
     },
     "metadata": {},
     "execution_count": 8
    }
   ],
   "source": [
    "x_train[0].shape"
   ]
  },
  {
   "cell_type": "code",
   "execution_count": 9,
   "metadata": {},
   "outputs": [
    {
     "output_type": "execute_result",
     "data": {
      "text/plain": "255"
     },
     "metadata": {},
     "execution_count": 9
    }
   ],
   "source": [
    "x_train.max()"
   ]
  },
  {
   "cell_type": "code",
   "execution_count": 10,
   "metadata": {},
   "outputs": [],
   "source": [
    "x_train = x_train/225"
   ]
  },
  {
   "cell_type": "code",
   "execution_count": 11,
   "metadata": {},
   "outputs": [],
   "source": [
    "x_test = x_test/255"
   ]
  },
  {
   "cell_type": "code",
   "execution_count": 12,
   "metadata": {},
   "outputs": [
    {
     "output_type": "execute_result",
     "data": {
      "text/plain": "(50000, 32, 32, 3)"
     },
     "metadata": {},
     "execution_count": 12
    }
   ],
   "source": [
    "x_train.shape"
   ]
  },
  {
   "cell_type": "code",
   "execution_count": 13,
   "metadata": {},
   "outputs": [
    {
     "output_type": "execute_result",
     "data": {
      "text/plain": "(10000, 32, 32, 3)"
     },
     "metadata": {},
     "execution_count": 13
    }
   ],
   "source": [
    "x_test.shape"
   ]
  },
  {
   "cell_type": "markdown",
   "metadata": {},
   "source": [
    "## Labels"
   ]
  },
  {
   "cell_type": "code",
   "execution_count": 14,
   "metadata": {},
   "outputs": [],
   "source": [
    "from keras.utils import to_categorical"
   ]
  },
  {
   "cell_type": "code",
   "execution_count": 15,
   "metadata": {},
   "outputs": [
    {
     "output_type": "execute_result",
     "data": {
      "text/plain": "(50000, 1)"
     },
     "metadata": {},
     "execution_count": 15
    }
   ],
   "source": [
    "y_train.shape"
   ]
  },
  {
   "cell_type": "code",
   "execution_count": 16,
   "metadata": {},
   "outputs": [
    {
     "output_type": "execute_result",
     "data": {
      "text/plain": "array([6], dtype=uint8)"
     },
     "metadata": {},
     "execution_count": 16
    }
   ],
   "source": [
    "y_train[0]"
   ]
  },
  {
   "cell_type": "code",
   "execution_count": 17,
   "metadata": {},
   "outputs": [],
   "source": [
    "y_cat_train = to_categorical(y_train,10)"
   ]
  },
  {
   "cell_type": "code",
   "execution_count": 18,
   "metadata": {},
   "outputs": [
    {
     "output_type": "execute_result",
     "data": {
      "text/plain": "(50000, 10)"
     },
     "metadata": {},
     "execution_count": 18
    }
   ],
   "source": [
    "y_cat_train.shape"
   ]
  },
  {
   "cell_type": "code",
   "execution_count": 19,
   "metadata": {},
   "outputs": [
    {
     "output_type": "execute_result",
     "data": {
      "text/plain": "array([0., 0., 0., 0., 0., 0., 1., 0., 0., 0.], dtype=float32)"
     },
     "metadata": {},
     "execution_count": 19
    }
   ],
   "source": [
    "y_cat_train[0]"
   ]
  },
  {
   "cell_type": "code",
   "execution_count": 20,
   "metadata": {},
   "outputs": [],
   "source": [
    "y_cat_test = to_categorical(y_test,10)"
   ]
  },
  {
   "cell_type": "markdown",
   "metadata": {},
   "source": [
    "----------\n",
    "# Building the Model"
   ]
  },
  {
   "cell_type": "code",
   "execution_count": 21,
   "metadata": {},
   "outputs": [],
   "source": [
    "from keras.models import Sequential\n",
    "from keras.layers import Dense, Conv2D, MaxPool2D, Flatten"
   ]
  },
  {
   "cell_type": "code",
   "execution_count": 22,
   "metadata": {},
   "outputs": [],
   "source": [
    "model = Sequential()\n",
    "\n",
    "## FIRST SET OF LAYERS\n",
    "\n",
    "# CONVOLUTIONAL LAYER\n",
    "model.add(Conv2D(filters=32, kernel_size=(4,4),input_shape=(32, 32, 3), activation='relu',))\n",
    "# POOLING LAYER\n",
    "model.add(MaxPool2D(pool_size=(2, 2)))\n",
    "\n",
    "## SECOND SET OF LAYERS\n",
    "\n",
    "# CONVOLUTIONAL LAYER\n",
    "model.add(Conv2D(filters=32, kernel_size=(4,4),input_shape=(32, 32, 3), activation='relu',))\n",
    "# POOLING LAYER\n",
    "model.add(MaxPool2D(pool_size=(2, 2)))\n",
    "\n",
    "# FLATTEN IMAGES FROM 28 by 28 to 764 BEFORE FINAL LAYER\n",
    "model.add(Flatten())\n",
    "\n",
    "# 256 NEURONS IN DENSE HIDDEN LAYER (YOU CAN CHANGE THIS NUMBER OF NEURONS)\n",
    "model.add(Dense(256, activation='relu'))\n",
    "\n",
    "# LAST LAYER IS THE CLASSIFIER, THUS 10 POSSIBLE CLASSES\n",
    "model.add(Dense(10, activation='softmax'))\n",
    "\n",
    "\n",
    "model.compile(loss='categorical_crossentropy',\n",
    "              optimizer='rmsprop',\n",
    "              metrics=['accuracy'])"
   ]
  },
  {
   "cell_type": "code",
   "execution_count": 23,
   "metadata": {
    "tags": []
   },
   "outputs": [
    {
     "output_type": "stream",
     "name": "stdout",
     "text": "_________________________________________________________________\nLayer (type)                 Output Shape              Param #   \n=================================================================\nconv2d_1 (Conv2D)            (None, 29, 29, 32)        1568      \n_________________________________________________________________\nmax_pooling2d_1 (MaxPooling2 (None, 14, 14, 32)        0         \n_________________________________________________________________\nconv2d_2 (Conv2D)            (None, 11, 11, 32)        16416     \n_________________________________________________________________\nmax_pooling2d_2 (MaxPooling2 (None, 5, 5, 32)          0         \n_________________________________________________________________\nflatten_1 (Flatten)          (None, 800)               0         \n_________________________________________________________________\ndense_1 (Dense)              (None, 256)               205056    \n_________________________________________________________________\ndense_2 (Dense)              (None, 10)                2570      \n=================================================================\nTotal params: 225,610\nTrainable params: 225,610\nNon-trainable params: 0\n_________________________________________________________________\n"
    }
   ],
   "source": [
    "model.summary()"
   ]
  },
  {
   "cell_type": "code",
   "execution_count": 24,
   "metadata": {
    "tags": []
   },
   "outputs": [
    {
     "output_type": "stream",
     "name": "stdout",
     "text": "Epoch 1/10\n50000/50000 [==============================] - 23s 456us/step - loss: 1.5227 - acc: 0.4530\nEpoch 2/10\n50000/50000 [==============================] - 22s 431us/step - loss: 1.1710 - acc: 0.5902\nEpoch 3/10\n50000/50000 [==============================] - 23s 464us/step - loss: 1.0223 - acc: 0.6453\nEpoch 4/10\n50000/50000 [==============================] - 22s 434us/step - loss: 0.9198 - acc: 0.6827\nEpoch 5/10\n50000/50000 [==============================] - 20s 408us/step - loss: 0.8351 - acc: 0.7126\nEpoch 6/10\n50000/50000 [==============================] - 22s 434us/step - loss: 0.7702 - acc: 0.7383\nEpoch 7/10\n50000/50000 [==============================] - 21s 420us/step - loss: 0.7147 - acc: 0.7577\nEpoch 8/10\n50000/50000 [==============================] - 22s 449us/step - loss: 0.6644 - acc: 0.7754\nEpoch 9/10\n50000/50000 [==============================] - 22s 449us/step - loss: 0.6248 - acc: 0.7855\nEpoch 10/10\n50000/50000 [==============================] - 22s 436us/step - loss: 0.5875 - acc: 0.8030\n"
    },
    {
     "output_type": "execute_result",
     "data": {
      "text/plain": "&lt;keras.callbacks.History at 0x19254e390b8&gt;"
     },
     "metadata": {},
     "execution_count": 24
    }
   ],
   "source": [
    "model.fit(x_train,y_cat_train,verbose=1,epochs=10)"
   ]
  },
  {
   "cell_type": "code",
   "execution_count": 26,
   "metadata": {},
   "outputs": [],
   "source": [
    "# Careful, don't overwrite our file!\n",
    "# model.save('cifar_10epochs.h5')"
   ]
  },
  {
   "cell_type": "code",
   "execution_count": 25,
   "metadata": {},
   "outputs": [
    {
     "output_type": "execute_result",
     "data": {
      "text/plain": "[&#39;loss&#39;, &#39;acc&#39;]"
     },
     "metadata": {},
     "execution_count": 25
    }
   ],
   "source": [
    "model.metrics_names"
   ]
  },
  {
   "cell_type": "code",
   "execution_count": 26,
   "metadata": {
    "tags": []
   },
   "outputs": [
    {
     "output_type": "stream",
     "name": "stdout",
     "text": "10000/10000 [==============================] - 2s 165us/step\n"
    },
    {
     "output_type": "execute_result",
     "data": {
      "text/plain": "[1.155599568271637, 0.6658]"
     },
     "metadata": {},
     "execution_count": 26
    }
   ],
   "source": [
    "model.evaluate(x_test,y_cat_test)"
   ]
  },
  {
   "cell_type": "code",
   "execution_count": 27,
   "metadata": {},
   "outputs": [],
   "source": [
    "from sklearn.metrics import classification_report\n",
    "\n",
    "predictions = model.predict_classes(x_test)"
   ]
  },
  {
   "cell_type": "code",
   "execution_count": 28,
   "metadata": {
    "tags": []
   },
   "outputs": [
    {
     "output_type": "stream",
     "name": "stdout",
     "text": "             precision    recall  f1-score   support\n\n          0       0.78      0.65      0.71      1000\n          1       0.86      0.76      0.81      1000\n          2       0.71      0.38      0.50      1000\n          3       0.53      0.40      0.45      1000\n          4       0.46      0.79      0.59      1000\n          5       0.54      0.62      0.58      1000\n          6       0.73      0.78      0.76      1000\n          7       0.84      0.62      0.71      1000\n          8       0.75      0.80      0.78      1000\n          9       0.67      0.85      0.75      1000\n\navg / total       0.69      0.67      0.66     10000\n\n"
    }
   ],
   "source": [
    "print(classification_report(y_test,predictions))"
   ]
  },
  {
   "cell_type": "markdown",
   "metadata": {},
   "source": [
    "## Optional: Large Model"
   ]
  },
  {
   "cell_type": "code",
   "execution_count": 29,
   "metadata": {},
   "outputs": [],
   "source": [
    "model = Sequential()\n",
    "\n",
    "## FIRST SET OF LAYERS\n",
    "\n",
    "# CONVOLUTIONAL LAYER\n",
    "model.add(Conv2D(filters=32, kernel_size=(4,4),input_shape=(32, 32, 3), activation='relu',))\n",
    "# CONVOLUTIONAL LAYER\n",
    "model.add(Conv2D(filters=32, kernel_size=(4,4),input_shape=(32, 32, 3), activation='relu',))\n",
    "\n",
    "# POOLING LAYER\n",
    "model.add(MaxPool2D(pool_size=(2, 2)))\n",
    "\n",
    "## SECOND SET OF LAYERS\n",
    "\n",
    "# CONVOLUTIONAL LAYER\n",
    "model.add(Conv2D(filters=64, kernel_size=(4,4),input_shape=(32, 32, 3), activation='relu',))\n",
    "# CONVOLUTIONAL LAYER\n",
    "model.add(Conv2D(filters=64, kernel_size=(4,4),input_shape=(32, 32, 3), activation='relu',))\n",
    "\n",
    "# POOLING LAYER\n",
    "model.add(MaxPool2D(pool_size=(2, 2)))\n",
    "\n",
    "# FLATTEN IMAGES FROM 28 by 28 to 764 BEFORE FINAL LAYER\n",
    "model.add(Flatten())\n",
    "\n",
    "# 512 NEURONS IN DENSE HIDDEN LAYER (YOU CAN CHANGE THIS NUMBER OF NEURONS)\n",
    "model.add(Dense(512, activation='relu'))\n",
    "\n",
    "# LAST LAYER IS THE CLASSIFIER, THUS 10 POSSIBLE CLASSES\n",
    "model.add(Dense(10, activation='softmax'))\n",
    "\n",
    "\n",
    "model.compile(loss='categorical_crossentropy',\n",
    "              optimizer='rmsprop',\n",
    "              metrics=['accuracy'])"
   ]
  },
  {
   "cell_type": "code",
   "execution_count": 30,
   "metadata": {
    "tags": []
   },
   "outputs": [
    {
     "output_type": "stream",
     "name": "stdout",
     "text": "Epoch 1/20\n50000/50000 [==============================] - 74s 1ms/step - loss: 1.6143 - acc: 0.4204\nEpoch 2/20\n50000/50000 [==============================] - 71s 1ms/step - loss: 1.1737 - acc: 0.5892\nEpoch 3/20\n50000/50000 [==============================] - 74s 1ms/step - loss: 1.0125 - acc: 0.6482\nEpoch 4/20\n50000/50000 [==============================] - 71s 1ms/step - loss: 0.9463 - acc: 0.6768\nEpoch 5/20\n50000/50000 [==============================] - 75s 1ms/step - loss: 0.9187 - acc: 0.6902\nEpoch 6/20\n50000/50000 [==============================] - 80s 2ms/step - loss: 0.9103 - acc: 0.6926\nEpoch 7/20\n50000/50000 [==============================] - 72s 1ms/step - loss: 0.8963 - acc: 0.7009\nEpoch 8/20\n50000/50000 [==============================] - 74s 1ms/step - loss: 0.8797 - acc: 0.7067\nEpoch 9/20\n50000/50000 [==============================] - 75s 1ms/step - loss: 0.8757 - acc: 0.7086\nEpoch 10/20\n50000/50000 [==============================] - 75s 2ms/step - loss: 0.8668 - acc: 0.7116\nEpoch 11/20\n50000/50000 [==============================] - 77s 2ms/step - loss: 0.8545 - acc: 0.7179\nEpoch 12/20\n50000/50000 [==============================] - 77s 2ms/step - loss: 0.8549 - acc: 0.7215\nEpoch 13/20\n50000/50000 [==============================] - 76s 2ms/step - loss: 0.8501 - acc: 0.7224\nEpoch 14/20\n50000/50000 [==============================] - 77s 2ms/step - loss: 0.8368 - acc: 0.7259\nEpoch 15/20\n50000/50000 [==============================] - 79s 2ms/step - loss: 0.8363 - acc: 0.7269\nEpoch 16/20\n50000/50000 [==============================] - 73s 1ms/step - loss: 0.8286 - acc: 0.7299\nEpoch 17/20\n50000/50000 [==============================] - 71s 1ms/step - loss: 0.8317 - acc: 0.7309\nEpoch 18/20\n50000/50000 [==============================] - 76s 2ms/step - loss: 0.8182 - acc: 0.7362\nEpoch 19/20\n50000/50000 [==============================] - 81s 2ms/step - loss: 0.8210 - acc: 0.7336\nEpoch 20/20\n50000/50000 [==============================] - 72s 1ms/step - loss: 0.8076 - acc: 0.7374\n"
    },
    {
     "output_type": "execute_result",
     "data": {
      "text/plain": "&lt;keras.callbacks.History at 0x192bf1e1a58&gt;"
     },
     "metadata": {},
     "execution_count": 30
    }
   ],
   "source": [
    "model.fit(x_train,y_cat_train,verbose=1,epochs=20)"
   ]
  },
  {
   "cell_type": "code",
   "execution_count": 31,
   "metadata": {
    "tags": []
   },
   "outputs": [
    {
     "output_type": "stream",
     "name": "stdout",
     "text": "10000/10000 [==============================] - 6s 646us/step\n"
    },
    {
     "output_type": "execute_result",
     "data": {
      "text/plain": "[1.057723906803131, 0.6763]"
     },
     "metadata": {},
     "execution_count": 31
    }
   ],
   "source": [
    "model.evaluate(x_test,y_cat_test)"
   ]
  },
  {
   "cell_type": "code",
   "execution_count": 32,
   "metadata": {},
   "outputs": [],
   "source": [
    "from sklearn.metrics import classification_report\n",
    "\n",
    "predictions = model.predict_classes(x_test)"
   ]
  },
  {
   "cell_type": "code",
   "execution_count": 33,
   "metadata": {
    "tags": []
   },
   "outputs": [
    {
     "output_type": "stream",
     "name": "stdout",
     "text": "             precision    recall  f1-score   support\n\n          0       0.80      0.59      0.68      1000\n          1       0.86      0.80      0.83      1000\n          2       0.65      0.54      0.59      1000\n          3       0.39      0.75      0.51      1000\n          4       0.55      0.75      0.64      1000\n          5       0.73      0.48      0.58      1000\n          6       0.75      0.70      0.72      1000\n          7       0.89      0.62      0.73      1000\n          8       0.74      0.84      0.79      1000\n          9       0.88      0.69      0.77      1000\n\navg / total       0.72      0.68      0.68     10000\n\n"
    }
   ],
   "source": [
    "print(classification_report(y_test,predictions))"
   ]
  },
  {
   "cell_type": "code",
   "execution_count": 38,
   "metadata": {},
   "outputs": [],
   "source": [
    "model.save('larger_CIFAR10_model.h5')"
   ]
  },
  {
   "cell_type": "markdown",
   "metadata": {},
   "source": [
    "___"
   ]
  }
 ],
 "metadata": {
  "kernelspec": {
   "display_name": "Python 3",
   "language": "python",
   "name": "python3"
  },
  "language_info": {
   "codemirror_mode": {
    "name": "ipython",
    "version": 3
   },
   "file_extension": ".py",
   "mimetype": "text/x-python",
   "name": "python",
   "nbconvert_exporter": "python",
   "pygments_lexer": "ipython3",
   "version": "3.6.6-final"
  }
 },
 "nbformat": 4,
 "nbformat_minor": 2
}