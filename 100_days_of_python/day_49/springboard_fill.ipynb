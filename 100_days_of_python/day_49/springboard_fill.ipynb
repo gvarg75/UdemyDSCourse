{
 "cells": [
  {
   "cell_type": "code",
   "execution_count": 7,
   "metadata": {},
   "outputs": [],
   "source": [
    "from selenium import webdriver\n",
    "from selenium.webdriver.common.by import By\n",
    "from selenium.webdriver.chrome.service import Service\n",
    "import os\n",
    "import time\n",
    "from dotenv import load_dotenv\n",
    "import csv"
   ]
  },
  {
   "cell_type": "markdown",
   "metadata": {},
   "source": [
    "Open Springboard"
   ]
  },
  {
   "cell_type": "code",
   "execution_count": 17,
   "metadata": {},
   "outputs": [],
   "source": [
    "load_dotenv()\n",
    "\n",
    "email = os.environ.get('EMAIL')\n",
    "password = os.environ.get('PASSWORD')\n",
    "\n",
    "ser = Service(\"C:\\Development\\chromedriver.exe\")\n",
    "op = webdriver.ChromeOptions()\n",
    "driver = webdriver.Chrome(service=ser, options=op)\n",
    "driver.get(\"https://www.springboard.com/\")"
   ]
  },
  {
   "cell_type": "markdown",
   "metadata": {},
   "source": [
    "Login"
   ]
  },
  {
   "cell_type": "code",
   "execution_count": null,
   "metadata": {},
   "outputs": [],
   "source": [
    "driver.find_element(By.XPATH, '//*[@id=\"gatsby-focus-wrapper\"]/div/div[1]/div[2]/div[2]/div[3]/button').click()\n",
    "time.sleep(1)\n",
    "\n",
    "email_input = driver.find_element(By.XPATH, '//*[@id=\"gatsby-focus-wrapper\"]/div/div[1]/div[3]/div/div/div[2]/form/div[2]/div/input')\n",
    "password_input = driver.find_element(By.XPATH, '//*[@id=\"gatsby-focus-wrapper\"]/div/div[1]/div[3]/div/div/div[2]/form/div[3]/div/input')\n",
    "\n",
    "email_input.send_keys(email)\n",
    "password_input.send_keys(password)\n",
    "\n",
    "driver.find_element(By.XPATH, '//*[@id=\"gatsby-focus-wrapper\"]/div/div[1]/div[3]/div/div/div[2]/form/div[5]/button').click()\n",
    "\n",
    "time.sleep(5)"
   ]
  }
 ],
 "metadata": {
  "interpreter": {
   "hash": "6fe186ae3703c11d967101746f589bc0ca95b57b4512a9817da0767fcf64fe80"
  },
  "kernelspec": {
   "display_name": "Python 3.7.10 64-bit ('Udemy': conda)",
   "language": "python",
   "name": "python3"
  },
  "language_info": {
   "codemirror_mode": {
    "name": "ipython",
    "version": 3
   },
   "file_extension": ".py",
   "mimetype": "text/x-python",
   "name": "python",
   "nbconvert_exporter": "python",
   "pygments_lexer": "ipython3",
   "version": "3.7.10"
  },
  "orig_nbformat": 4
 },
 "nbformat": 4,
 "nbformat_minor": 2
}
